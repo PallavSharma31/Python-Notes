{
 "cells": [
  {
   "cell_type": "markdown",
   "id": "b85efef9-e77e-4767-b6a5-9c05195b5787",
   "metadata": {},
   "source": [
    "# Filter Function"
   ]
  },
  {
   "cell_type": "markdown",
   "id": "b163cd27-44b4-48e2-87a0-b0a5a39210c5",
   "metadata": {},
   "source": [
    "**filter** applies a function to each item in the iterable and includes only those items for which the function returns True.\n",
    "\n",
    "`\n",
    "filter(function, iterable)\n",
    "`\n",
    "\n",
    "- **function**: A function that tests each element of the iterable. It should return True or False.\n",
    "- **iterable**: An iterable (e.g., list, tuple, etc.) whose elements are to be filtered."
   ]
  },
  {
   "cell_type": "code",
   "execution_count": 1,
   "id": "6ee5eb85-0c5b-459a-8a14-e5a0b42796b4",
   "metadata": {},
   "outputs": [
    {
     "name": "stdout",
     "output_type": "stream",
     "text": [
      "[2, 4, 6]\n"
     ]
    }
   ],
   "source": [
    "def is_even(n):\n",
    "    return n % 2 == 0\n",
    "\n",
    "numbers = [1, 2, 3, 4, 5, 6]\n",
    "even_numbers = filter(is_even, numbers)\n",
    "\n",
    "print(list(even_numbers))  # Output: [2, 4, 6]"
   ]
  },
  {
   "cell_type": "code",
   "execution_count": 2,
   "id": "6ff79453-0854-4062-8855-2f13c7d71689",
   "metadata": {},
   "outputs": [
    {
     "name": "stdout",
     "output_type": "stream",
     "text": [
      "[2, 4, 6]\n"
     ]
    }
   ],
   "source": [
    "numbers = [1, 2, 3, 4, 5, 6]\n",
    "even_numbers = filter(lambda x: x % 2 == 0, numbers)\n",
    "\n",
    "print(list(even_numbers))  # Output: [2, 4, 6]"
   ]
  },
  {
   "cell_type": "code",
   "execution_count": 3,
   "id": "dcfb4660-5d20-4a96-b1de-47123fd22361",
   "metadata": {},
   "outputs": [
    {
     "name": "stdout",
     "output_type": "stream",
     "text": [
      "['pear', 'kiwi']\n"
     ]
    }
   ],
   "source": [
    "def is_short_string(s):\n",
    "    return len(s) < 5\n",
    "\n",
    "strings = [\"apple\", \"pear\", \"banana\", \"kiwi\", \"grape\"]\n",
    "short_strings = filter(is_short_string, strings)\n",
    "\n",
    "print(list(short_strings))  # Output: ['pear', 'kiwi']\n"
   ]
  },
  {
   "cell_type": "code",
   "execution_count": 4,
   "id": "76180629-d09a-4e61-a9b2-4272f489bb61",
   "metadata": {},
   "outputs": [
    {
     "name": "stdout",
     "output_type": "stream",
     "text": [
      "[4, 6, 8]\n"
     ]
    }
   ],
   "source": [
    "numbers = [1, 2, 3, 4, 5, 6, 7, 8]\n",
    "filtered_numbers = filter(lambda x: x % 2 == 0 and x > 3, numbers)\n",
    "\n",
    "print(list(filtered_numbers))  # Output: [4, 6, 8]"
   ]
  }
 ],
 "metadata": {
  "kernelspec": {
   "display_name": "Python 3 (ipykernel)",
   "language": "python",
   "name": "python3"
  },
  "language_info": {
   "codemirror_mode": {
    "name": "ipython",
    "version": 3
   },
   "file_extension": ".py",
   "mimetype": "text/x-python",
   "name": "python",
   "nbconvert_exporter": "python",
   "pygments_lexer": "ipython3",
   "version": "3.12.2"
  }
 },
 "nbformat": 4,
 "nbformat_minor": 5
}
