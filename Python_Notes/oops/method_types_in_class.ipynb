{
 "cells": [
  {
   "cell_type": "markdown",
   "id": "8b0a26c9-cc05-4685-b67d-4e857074942b",
   "metadata": {},
   "source": [
    "# Types of Methods"
   ]
  },
  {
   "cell_type": "markdown",
   "id": "5637b01d-bd49-4096-b60e-bae2e9a4acdf",
   "metadata": {
    "jp-MarkdownHeadingCollapsed": true
   },
   "source": [
    "### 1. Instance Methods"
   ]
  },
  {
   "cell_type": "markdown",
   "id": "0fcbd7e7-cdbb-4732-a33a-e5864a9902e6",
   "metadata": {},
   "source": [
    "Instane methods are methods that operate on the instance of the class(object) and can access and modify the object's attributes."
   ]
  },
  {
   "cell_type": "code",
   "execution_count": 1,
   "id": "36a5274a-3537-4e1b-883b-38a9fae808a8",
   "metadata": {},
   "outputs": [
    {
     "name": "stdout",
     "output_type": "stream",
     "text": [
      "The value is 10\n"
     ]
    }
   ],
   "source": [
    "from typing import Any\n",
    "\n",
    "class MyClass:\n",
    "    def __init__(self, value: Any) -> None:\n",
    "        # this is instance variable\n",
    "        self.value = value\n",
    "    \n",
    "    def instance_method(self) -> None:\n",
    "        \"\"\"This is an instance method that can access instance attributes.\"\"\"\n",
    "        print(f'The value is {self.value}')\n",
    "\n",
    "# Example usage\n",
    "obj = MyClass(10)\n",
    "obj.instance_method()  # Output: The value is 10\n"
   ]
  },
  {
   "cell_type": "markdown",
   "id": "e267c739-74c7-4ac4-a1ef-7ad79c8ae58e",
   "metadata": {
    "jp-MarkdownHeadingCollapsed": true
   },
   "source": [
    "### 2. Class Methods"
   ]
  },
  {
   "cell_type": "markdown",
   "id": "f2388028-16a8-4f40-bd03-ac90c07b418d",
   "metadata": {},
   "source": [
    "Class methods are bound to the class and not the instance. They can access class attributes but not instance attributes. They are defined using the @classmethod decorator."
   ]
  },
  {
   "cell_type": "code",
   "execution_count": 20,
   "id": "5dc33d6d-bd55-44e1-8e0c-493476288234",
   "metadata": {},
   "outputs": [
    {
     "name": "stdout",
     "output_type": "stream",
     "text": [
      "The class attribute is 0\n"
     ]
    }
   ],
   "source": [
    "from typing import Type\n",
    "\n",
    "class MyClass:\n",
    "    # this is class variable\n",
    "    class_attr: int = 0\n",
    "    \n",
    "    def __init__(self, value: Any) -> None:\n",
    "        # this is instace variable\n",
    "        self.value = value\n",
    "    \n",
    "    @classmethod\n",
    "    def class_method(cls: Type['MyClass']) -> None:\n",
    "        \"\"\"This is a class method that can access class attributes.\"\"\"\n",
    "        print(f'The class attribute is {cls.class_attr}')\n",
    "\n",
    "# Example usage\n",
    "MyClass.class_method()  # Output: The class attribute is 0\n"
   ]
  },
  {
   "cell_type": "code",
   "execution_count": 21,
   "id": "b735589d-c509-4021-bc0a-16a3499c5f0b",
   "metadata": {},
   "outputs": [
    {
     "data": {
      "text/plain": [
       "0"
      ]
     },
     "execution_count": 21,
     "metadata": {},
     "output_type": "execute_result"
    }
   ],
   "source": [
    "# we can also access the class variables through objects of the class\n",
    "a=MyClass(1)\n",
    "a.class_attr"
   ]
  },
  {
   "cell_type": "markdown",
   "id": "83c00cb9-098d-4fc2-946c-cb29aa4fd8c0",
   "metadata": {},
   "source": [
    "#### **We can't acess class attributes direclty by its name inside functions**"
   ]
  },
  {
   "cell_type": "code",
   "execution_count": 28,
   "id": "d0359b50-8eab-4ee9-b8b2-d62d449bb336",
   "metadata": {},
   "outputs": [
    {
     "ename": "NameError",
     "evalue": "name 'class_attr' is not defined",
     "output_type": "error",
     "traceback": [
      "\u001b[0;31m---------------------------------------------------------------------------\u001b[0m",
      "\u001b[0;31mNameError\u001b[0m                                 Traceback (most recent call last)",
      "Cell \u001b[0;32mIn[28], line 12\u001b[0m\n\u001b[1;32m      9\u001b[0m         \u001b[38;5;28mself\u001b[39m\u001b[38;5;241m.\u001b[39mvalue \u001b[38;5;241m=\u001b[39m value\n\u001b[1;32m     10\u001b[0m         \u001b[38;5;28mprint\u001b[39m(class_attr)\n\u001b[0;32m---> 12\u001b[0m a\u001b[38;5;241m=\u001b[39m\u001b[43mMyClass\u001b[49m\u001b[43m(\u001b[49m\u001b[38;5;241;43m1\u001b[39;49m\u001b[43m)\u001b[49m\n",
      "Cell \u001b[0;32mIn[28], line 10\u001b[0m, in \u001b[0;36mMyClass.__init__\u001b[0;34m(self, value)\u001b[0m\n\u001b[1;32m      7\u001b[0m \u001b[38;5;28;01mdef\u001b[39;00m \u001b[38;5;21m__init__\u001b[39m(\u001b[38;5;28mself\u001b[39m, value: Any) \u001b[38;5;241m-\u001b[39m\u001b[38;5;241m>\u001b[39m \u001b[38;5;28;01mNone\u001b[39;00m:\n\u001b[1;32m      8\u001b[0m     \u001b[38;5;66;03m# this is instace variable\u001b[39;00m\n\u001b[1;32m      9\u001b[0m     \u001b[38;5;28mself\u001b[39m\u001b[38;5;241m.\u001b[39mvalue \u001b[38;5;241m=\u001b[39m value\n\u001b[0;32m---> 10\u001b[0m     \u001b[38;5;28mprint\u001b[39m(\u001b[43mclass_attr\u001b[49m)\n",
      "\u001b[0;31mNameError\u001b[0m: name 'class_attr' is not defined"
     ]
    }
   ],
   "source": [
    "from typing import Type\n",
    "\n",
    "class MyClass:\n",
    "    # this is class variable\n",
    "    class_attr: int = 0\n",
    "    \n",
    "    def __init__(self, value: Any) -> None:\n",
    "        # this is instace variable\n",
    "        self.value = value\n",
    "        print(class_attr)\n",
    "        \n",
    "a=MyClass(1)\n"
   ]
  },
  {
   "cell_type": "markdown",
   "id": "d2a48a72-5d7a-4a90-bd56-7260d27bcdc4",
   "metadata": {},
   "source": [
    "**We can access the class variables either using Classname or object**"
   ]
  },
  {
   "cell_type": "code",
   "execution_count": 29,
   "id": "9c7ceff0-3994-4791-bf61-653bd56aee16",
   "metadata": {},
   "outputs": [
    {
     "name": "stdout",
     "output_type": "stream",
     "text": [
      "0\n"
     ]
    }
   ],
   "source": [
    "from typing import Type\n",
    "\n",
    "class MyClass:\n",
    "    # this is class variable\n",
    "    class_attr: int = 0\n",
    "    \n",
    "    def __init__(self, value: Any) -> None:\n",
    "        # this is instace variable\n",
    "        self.value = value\n",
    "        print(self.class_attr)\n",
    "        \n",
    "a=MyClass(1)\n"
   ]
  },
  {
   "cell_type": "code",
   "execution_count": 37,
   "id": "16ab6372-2655-4f69-9c05-d554459b7a92",
   "metadata": {},
   "outputs": [
    {
     "name": "stdout",
     "output_type": "stream",
     "text": [
      "1\n",
      "1\n"
     ]
    }
   ],
   "source": [
    "from typing import Type\n",
    "\n",
    "class MyClass:\n",
    "    # this is class variable\n",
    "    class_attr: int = 0\n",
    "    \n",
    "    def __init__(self, value: Any) -> None:\n",
    "        # this is instace variable\n",
    "        self.value = value\n",
    "        # this change the value for whole class and objects\n",
    "        MyClass.class_attr=1\n",
    "        \n",
    "a=MyClass(1)\n",
    "print(MyClass.class_attr)\n",
    "b=MyClass(1)\n",
    "print(b.class_attr)"
   ]
  },
  {
   "cell_type": "markdown",
   "id": "fe35adba-0303-4ab9-800e-ae8bc1e739af",
   "metadata": {
    "jp-MarkdownHeadingCollapsed": true
   },
   "source": [
    "### 3. Static Methods"
   ]
  },
  {
   "cell_type": "markdown",
   "id": "bb240e65-49ef-480a-94f0-f41e830bc2dc",
   "metadata": {},
   "source": [
    "Static methods are generic methods that are present in the class.They do not access or modify class or instance attributes. They are defined using the @staticmethod decorator."
   ]
  },
  {
   "cell_type": "code",
   "execution_count": 12,
   "id": "3b536bd8-f06e-44ae-8e6d-245ce29e464e",
   "metadata": {},
   "outputs": [
    {
     "name": "stdout",
     "output_type": "stream",
     "text": [
      "The parameter is Hello\n",
      "<__main__.MyClass object at 0x1108f72f0>\n"
     ]
    }
   ],
   "source": [
    "class MyClass:\n",
    "    a:int =0\n",
    "    @staticmethod\n",
    "    def static_method(param: Any) -> None:\n",
    "        \"\"\"This is a static method that doesn't access class or instance attributes.\"\"\"\n",
    "        print(f'The parameter is {param}')\n",
    "        print(a)\n",
    "\n",
    "# Example usage\n",
    "MyClass.static_method('Hello')  # Output: The parameter is Hello"
   ]
  },
  {
   "cell_type": "markdown",
   "id": "66716504-eee5-4f40-89c5-e3ae8de31b91",
   "metadata": {
    "jp-MarkdownHeadingCollapsed": true
   },
   "source": [
    "### 4. Magic Methods (Special Methods)"
   ]
  },
  {
   "cell_type": "markdown",
   "id": "ce3ea0ff-029b-4da5-b0cf-1baf70f4f87f",
   "metadata": {},
   "source": [
    "Magic methods, also known as special methods or dunder (double underscore) methods, are predefined methods that allow custom behavior for built-in operations. They are surrounded by double underscores (e.g., `__init__`, `__str__`)."
   ]
  },
  {
   "cell_type": "code",
   "execution_count": 38,
   "id": "ef0e01d8-7129-44bf-8c92-6dce0e6f4e6e",
   "metadata": {},
   "outputs": [
    {
     "name": "stdout",
     "output_type": "stream",
     "text": [
      "MyClass with value 10\n"
     ]
    }
   ],
   "source": [
    "class MyClass:\n",
    "    def __init__(self, value: int) -> None:\n",
    "        self.value = value\n",
    "    \n",
    "    def __str__(self) -> str:\n",
    "        \"\"\"This is a magic method for string representation of the object.\"\"\"\n",
    "        return f'MyClass with value {self.value}'\n",
    "\n",
    "# Example usage\n",
    "obj = MyClass(10)\n",
    "print(obj)  # Output: MyClass with value 10\n"
   ]
  }
 ],
 "metadata": {
  "kernelspec": {
   "display_name": "Python 3 (ipykernel)",
   "language": "python",
   "name": "python3"
  },
  "language_info": {
   "codemirror_mode": {
    "name": "ipython",
    "version": 3
   },
   "file_extension": ".py",
   "mimetype": "text/x-python",
   "name": "python",
   "nbconvert_exporter": "python",
   "pygments_lexer": "ipython3",
   "version": "3.12.2"
  }
 },
 "nbformat": 4,
 "nbformat_minor": 5
}
