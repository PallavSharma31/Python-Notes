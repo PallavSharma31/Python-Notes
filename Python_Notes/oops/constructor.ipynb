{
 "cells": [
  {
   "cell_type": "markdown",
   "id": "40cb648d-bccb-4197-8a7a-5d1f952c68fe",
   "metadata": {},
   "source": [
    "# Constructor"
   ]
  },
  {
   "cell_type": "markdown",
   "id": "55aa430f-4a4d-4794-b3c2-38b0f7c3acef",
   "metadata": {},
   "source": [
    "In Python, a constructor is a special method that gets called automatically when an object of a class is instantiated (i.e., when you create an instance of the class). Constructors are typically used to initialize the object's state. In Python, the constructor method is always named `__init__`."
   ]
  },
  {
   "cell_type": "markdown",
   "id": "140d20b3-7096-4d64-a816-7f00db07658e",
   "metadata": {},
   "source": [
    "### Example"
   ]
  },
  {
   "cell_type": "code",
   "execution_count": 3,
   "id": "dc2a75e6-b3b9-418d-b6b9-4f2cf18b7642",
   "metadata": {},
   "outputs": [],
   "source": [
    "class Car:\n",
    "    def __init__(self, make, model, year):\n",
    "        self.make = make\n",
    "        self.model = model\n",
    "        self.year = year\n",
    "\n",
    "# Creating an instance (object) of the Car class\n",
    "my_car = Car(\"Toyota\", \"Camry\", 2020)"
   ]
  },
  {
   "cell_type": "markdown",
   "id": "fbbd4fcc-474f-4ffc-b97f-82fb86790a99",
   "metadata": {},
   "source": [
    "## Constructor in Inheritance"
   ]
  },
  {
   "cell_type": "markdown",
   "id": "a46fac3b-c08f-45fc-8117-a0619a021d2f",
   "metadata": {},
   "source": [
    "### 1. If we don't define `__init__` method for subclass,then upon creating object of subclass,parent class `__init__` method is called."
   ]
  },
  {
   "cell_type": "code",
   "execution_count": 7,
   "id": "614bca54-c94f-4099-a541-782045e35274",
   "metadata": {},
   "outputs": [
    {
     "name": "stdout",
     "output_type": "stream",
     "text": [
      "Hi ,from Animal class\n"
     ]
    }
   ],
   "source": [
    "# Parent class\n",
    "class Animal:\n",
    "    def __init__(self):\n",
    "        print(\"Hi ,from Animal class\")\n",
    "\n",
    "# Child class inheriting from Animal\n",
    "class Dog(Animal):\n",
    "    pass\n",
    "    # def __init__(self):\n",
    "    #     print(\"Hi ,from Dog class\")\n",
    "\n",
    "d=Dog()"
   ]
  },
  {
   "cell_type": "markdown",
   "id": "82146bbd-62c5-464f-bca9-016cb0563382",
   "metadata": {},
   "source": [
    "### 2. If we define the `__init__` method for subclass then on creating object of subclass only `__init__` method for sublclass is called."
   ]
  },
  {
   "cell_type": "code",
   "execution_count": 10,
   "id": "23efcb01-f06e-4f4b-a471-aa2212fdec3a",
   "metadata": {},
   "outputs": [
    {
     "name": "stdout",
     "output_type": "stream",
     "text": [
      "Hi ,from Dog class\n"
     ]
    }
   ],
   "source": [
    "# Parent class\n",
    "class Animal:\n",
    "    def __init__(self):\n",
    "        print(\"Hi ,from Animal class\")\n",
    "\n",
    "# Child class inheriting from Animal\n",
    "class Dog(Animal):\n",
    "    def __init__(self):\n",
    "        print(\"Hi ,from Dog class\")\n",
    "\n",
    "d=Dog()"
   ]
  },
  {
   "cell_type": "markdown",
   "id": "4d00b0e6-00f0-4ccb-b55a-233e0c737e35",
   "metadata": {},
   "source": [
    "### 3. We can call the functions of parent class from sublass using `super()` keyword."
   ]
  },
  {
   "cell_type": "code",
   "execution_count": 13,
   "id": "0a43745e-472e-4922-983d-149b8c48c580",
   "metadata": {},
   "outputs": [
    {
     "name": "stdout",
     "output_type": "stream",
     "text": [
      "Hi ,from Animal class\n",
      "Good morning\n"
     ]
    }
   ],
   "source": [
    "# Parent class\n",
    "class Animal:\n",
    "    def __init__(self):\n",
    "        print(\"Hi ,from Animal class\")\n",
    "\n",
    "    def good_morning(self):\n",
    "        print(\"Good morning\")\n",
    "\n",
    "# Child class inheriting from Animal\n",
    "class Dog(Animal):\n",
    "    def __init__(self):\n",
    "        super().__init__()\n",
    "        super().good_morning()\n",
    "\n",
    "d=Dog()"
   ]
  },
  {
   "cell_type": "markdown",
   "id": "bafc286b-1598-4165-b11d-206b7c1650e2",
   "metadata": {},
   "source": [
    "### 4. we cant access parent class variables using `super()` keyword,instead we can call parents init method in childs init method and then can use parents instance variables using `self` keyword"
   ]
  },
  {
   "cell_type": "code",
   "execution_count": 25,
   "id": "446ea8cd-8389-4465-901f-7b64808c6157",
   "metadata": {},
   "outputs": [
    {
     "name": "stdout",
     "output_type": "stream",
     "text": [
      "10\n"
     ]
    }
   ],
   "source": [
    "# Parent class\n",
    "class Animal:\n",
    "    def __init__(self):\n",
    "        self.a=10\n",
    "\n",
    "    def good_morning(self):\n",
    "        print(\"Good morning\")\n",
    "\n",
    "# Child class inheriting from Animal\n",
    "class Dog(Animal):\n",
    "    def __init__(self):\n",
    "        super().__init__()\n",
    "        print(self.a)\n",
    "\n",
    "d=Dog()"
   ]
  }
 ],
 "metadata": {
  "kernelspec": {
   "display_name": "Python 3 (ipykernel)",
   "language": "python",
   "name": "python3"
  },
  "language_info": {
   "codemirror_mode": {
    "name": "ipython",
    "version": 3
   },
   "file_extension": ".py",
   "mimetype": "text/x-python",
   "name": "python",
   "nbconvert_exporter": "python",
   "pygments_lexer": "ipython3",
   "version": "3.11.6"
  }
 },
 "nbformat": 4,
 "nbformat_minor": 5
}
