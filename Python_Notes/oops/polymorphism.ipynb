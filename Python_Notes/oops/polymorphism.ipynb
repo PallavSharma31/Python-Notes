{
 "cells": [
  {
   "cell_type": "markdown",
   "metadata": {},
   "source": [
    "# Polymorphism\n",
    "\n",
    "The literal meaning of polymorphism is the condition of occurrence in different forms.\n",
    "\n",
    "Polymorphism is a very important concept in programming. It refers to the use of a single type entity (method, operator or object) to represent different types in different scenarios"
   ]
  },
  {
   "cell_type": "markdown",
   "metadata": {},
   "source": [
    "## 1. Method Overriding\n",
    "\n",
    "When a derived class overrides a method of its base class, it is called method overriding. Here is an example to demonstrate polymorphism through inheritance:"
   ]
  },
  {
   "cell_type": "code",
   "execution_count": 2,
   "metadata": {},
   "outputs": [
    {
     "name": "stdout",
     "output_type": "stream",
     "text": [
      "Bark\n",
      "Meow\n"
     ]
    }
   ],
   "source": [
    "from typing import Union\n",
    "\n",
    "class Animal:\n",
    "    def speak(self) -> str:\n",
    "        return \"Some generic sound\"\n",
    "\n",
    "class Dog(Animal):\n",
    "    def speak(self) -> str:\n",
    "        return \"Bark\"\n",
    "\n",
    "class Cat(Animal):\n",
    "    def speak(self) -> str:\n",
    "        return \"Meow\"\n",
    "\n",
    "\n",
    "# Example usage\n",
    "dog: Dog = Dog()\n",
    "cat: Cat = Cat()\n",
    "\n",
    "print(dog.speak())  # Output: Bark\n",
    "print(cat.speak())  # Output: Meow\n"
   ]
  },
  {
   "cell_type": "markdown",
   "metadata": {},
   "source": [
    "## 2. Method Overloading\n",
    "\n",
    "Method overloading, a feature found in many object-oriented programming languages, allows a class to have multiple methods with the same name but different parameters. However, Python does not support method overloading in the same way as languages like Java or C++. Instead, Python achieves a similar effect through default arguments and variable-length argument lists."
   ]
  },
  {
   "cell_type": "markdown",
   "metadata": {},
   "source": [
    "### Achieving Method Overloading in Python\n",
    "While Python does not support true method overloading, you can simulate it using techniques such as:"
   ]
  },
  {
   "cell_type": "markdown",
   "metadata": {},
   "source": [
    "#### 1. **Default Arguments**: Using default values for parameters to handle different numbers of arguments."
   ]
  },
  {
   "cell_type": "code",
   "execution_count": 3,
   "metadata": {},
   "outputs": [
    {
     "name": "stdout",
     "output_type": "stream",
     "text": [
      "1\n",
      "3\n",
      "6\n"
     ]
    }
   ],
   "source": [
    "class MathOperations:\n",
    "    def add(self, a: int, b: int = 0, c: int = 0) -> int:\n",
    "        \"\"\"\n",
    "        Adds up to three integers.\n",
    "        If only one or two integers are provided, the remaining parameters default to 0.\n",
    "        \"\"\"\n",
    "        return a + b + c\n",
    "\n",
    "# Example usage\n",
    "math_op = MathOperations()\n",
    "print(math_op.add(1))         # Output: 1\n",
    "print(math_op.add(1, 2))      # Output: 3\n",
    "print(math_op.add(1, 2, 3))   # Output: 6"
   ]
  },
  {
   "cell_type": "markdown",
   "metadata": {},
   "source": [
    "#### 2. **Variable-Length Arguments**: Using *args and **args to accept a variable number of arguments."
   ]
  },
  {
   "cell_type": "markdown",
   "metadata": {},
   "source": []
  },
  {
   "cell_type": "code",
   "execution_count": 7,
   "metadata": {},
   "outputs": [
    {
     "name": "stdout",
     "output_type": "stream",
     "text": [
      "(1,)\n",
      "<class 'tuple'>\n",
      "1\n",
      "(1, 2)\n",
      "<class 'tuple'>\n",
      "3\n",
      "(1, 2, 3, 4, 5)\n",
      "<class 'tuple'>\n",
      "15\n"
     ]
    }
   ],
   "source": [
    "class MathOperations:\n",
    "    def add(self, *args: int) -> int:\n",
    "        \"\"\"\n",
    "        Adds any number of integer arguments.\n",
    "        \"\"\"\n",
    "        print(args)\n",
    "        print(type(args))\n",
    "        return sum(args)\n",
    "\n",
    "# Example usage\n",
    "math_op = MathOperations()\n",
    "print(math_op.add(1))               # Output: 1\n",
    "print(math_op.add(1, 2))            # Output: 3\n",
    "print(math_op.add(1, 2, 3, 4, 5))   # Output: 15\n"
   ]
  },
  {
   "cell_type": "code",
   "execution_count": 9,
   "metadata": {},
   "outputs": [
    {
     "name": "stdout",
     "output_type": "stream",
     "text": [
      "{'a': 1}\n",
      "<class 'dict'>\n",
      "1\n",
      "{'a': 1, 'b': 2}\n",
      "<class 'dict'>\n",
      "3\n",
      "{'a': 1, 'b': 2, 'c': 3, 'd': 4, 'e': 5}\n",
      "<class 'dict'>\n",
      "15\n"
     ]
    }
   ],
   "source": [
    "class MathOperations:\n",
    "    def add(self, **kwargs) -> int:\n",
    "        \"\"\"\n",
    "        Adds any number of integer arguments.\n",
    "        \"\"\"\n",
    "        print(kwargs)\n",
    "        print(type(kwargs))\n",
    "        ans:int=0\n",
    "        for value in kwargs.values():\n",
    "            ans+=value\n",
    "        return ans\n",
    "\n",
    "# Example usage\n",
    "math_op = MathOperations()\n",
    "print(math_op.add(a=1))               # Output: 1\n",
    "print(math_op.add(a=1,b=2))            # Output: 3\n",
    "print(math_op.add(a=1, b=2, c=3, d=4, e=5))   # Output: 15\n"
   ]
  },
  {
   "cell_type": "markdown",
   "metadata": {},
   "source": [
    "#### 3. Using Type Checking\n",
    "You can use type checking within a method to handle different types of arguments."
   ]
  },
  {
   "cell_type": "code",
   "execution_count": 10,
   "metadata": {},
   "outputs": [
    {
     "name": "stdout",
     "output_type": "stream",
     "text": [
      "Both parameters are integers.\n",
      "6\n",
      "At least one parameter is a float.\n",
      "7.0\n",
      "Both parameters are integers.\n",
      "3\n"
     ]
    }
   ],
   "source": [
    "from typing import Union\n",
    "\n",
    "class MathOperations:\n",
    "    def multiply(self, a: Union[int, float], b: Union[int, float] = 1) -> float:\n",
    "        \"\"\"\n",
    "        Multiplies two numbers. The numbers can be integers or floats.\n",
    "        \"\"\"\n",
    "        if isinstance(a, int) and isinstance(b, int):\n",
    "            print(\"Both parameters are integers.\")\n",
    "        elif isinstance(a, float) or isinstance(b, float):\n",
    "            print(\"At least one parameter is a float.\")\n",
    "        return a * b\n",
    "\n",
    "# Example usage\n",
    "math_op = MathOperations()\n",
    "print(math_op.multiply(3, 2))       # Output: 6 (Both parameters are integers.)\n",
    "print(math_op.multiply(3.5, 2))     # Output: 7.0 (At least one parameter is a float.)\n",
    "print(math_op.multiply(3))          # Output: 3 (Both parameters are integers.)"
   ]
  },
  {
   "cell_type": "markdown",
   "metadata": {},
   "source": [
    "## Miscelleneous"
   ]
  },
  {
   "cell_type": "markdown",
   "metadata": {},
   "source": [
    "### Defining Custom Special Methods\n",
    "\n",
    "In Python, you can define custom special methods to allow your objects to interact with standard operators like +, -, *, etc. These methods are also known as \"dunder\" methods (double underscore methods) because they start and end with double underscores. For example, the __add__ method allows you to define behavior for the + operator, and the __sub__ method for the - operator."
   ]
  },
  {
   "cell_type": "code",
   "execution_count": 11,
   "metadata": {},
   "outputs": [
    {
     "name": "stdout",
     "output_type": "stream",
     "text": [
      "Vector(6, 4)\n",
      "Vector(-2, 2)\n"
     ]
    }
   ],
   "source": [
    "class Vector:\n",
    "    def __init__(self, x: float, y: float) -> None:\n",
    "        \"\"\"\n",
    "        Initialize a vector with x and y components.\n",
    "        \"\"\"\n",
    "        self.x: float = x\n",
    "        self.y: float = y\n",
    "\n",
    "    def __add__(self, other: 'Vector') -> 'Vector':\n",
    "        \"\"\"\n",
    "        Define the behavior for the + operator.\n",
    "        \"\"\"\n",
    "        return Vector(self.x + other.x, self.y + other.y)\n",
    "\n",
    "    def __sub__(self, other: 'Vector') -> 'Vector':\n",
    "        \"\"\"\n",
    "        Define the behavior for the - operator.\n",
    "        \"\"\"\n",
    "        return Vector(self.x - other.x, self.y - other.y)\n",
    "\n",
    "    def __repr__(self) -> str:\n",
    "        \"\"\"\n",
    "        Return a string representation of the vector.\n",
    "        \"\"\"\n",
    "        return f\"Vector({self.x}, {self.y})\"\n",
    "\n",
    "# Example usage\n",
    "v1: Vector = Vector(2, 3)\n",
    "v2: Vector = Vector(4, 1)\n",
    "\n",
    "print(v1 + v2)  # equivalent to v1.__add__(v2)\n",
    "print(v1 - v2)  # equivalent to v1.__sub__(v2)"
   ]
  },
  {
   "cell_type": "code",
   "execution_count": 13,
   "metadata": {},
   "outputs": [
    {
     "name": "stdout",
     "output_type": "stream",
     "text": [
      "False\n",
      "True\n",
      "False\n",
      "False\n",
      "True\n",
      "True\n",
      "[Person(name=Bob, age=25), Person(name=Alice, age=30)]\n"
     ]
    }
   ],
   "source": [
    "class Person:\n",
    "    def __init__(self, name: str, age: int) -> None:\n",
    "        \"\"\"\n",
    "        Initialize a person with a name and age.\n",
    "        \"\"\"\n",
    "        self.name: str = name\n",
    "        self.age: int = age\n",
    "\n",
    "    def __eq__(self, other: 'Person') -> bool:\n",
    "        \"\"\"\n",
    "        Define behavior for the == operator.\n",
    "        \"\"\"\n",
    "        return self.age == other.age\n",
    "\n",
    "    def __ne__(self, other: 'Person') -> bool:\n",
    "        \"\"\"\n",
    "        Define behavior for the != operator.\n",
    "        \"\"\"\n",
    "        return self.age != other.age\n",
    "\n",
    "    def __lt__(self, other: 'Person') -> bool:\n",
    "        \"\"\"\n",
    "        Define behavior for the < operator.\n",
    "        \"\"\"\n",
    "        return self.age < other.age\n",
    "\n",
    "    def __le__(self, other: 'Person') -> bool:\n",
    "        \"\"\"\n",
    "        Define behavior for the <= operator.\n",
    "        \"\"\"\n",
    "        return self.age <= other.age\n",
    "\n",
    "    def __gt__(self, other: 'Person') -> bool:\n",
    "        \"\"\"\n",
    "        Define behavior for the > operator.\n",
    "        \"\"\"\n",
    "        return self.age > other.age\n",
    "\n",
    "    def __ge__(self, other: 'Person') -> bool:\n",
    "        \"\"\"\n",
    "        Define behavior for the >= operator.\n",
    "        \"\"\"\n",
    "        return self.age >= other.age\n",
    "\n",
    "    def __repr__(self) -> str:\n",
    "        \"\"\"\n",
    "        Return a string representation of the person.\n",
    "        \"\"\"\n",
    "        return f\"Person(name={self.name}, age={self.age})\"\n",
    "\n",
    "# Example usage\n",
    "alice: Person = Person(\"Alice\", 30)\n",
    "bob: Person = Person(\"Bob\", 25)\n",
    "\n",
    "print(alice == bob)  # Output: False\n",
    "print(alice != bob)  # Output: True\n",
    "print(alice < bob)   # Output: False\n",
    "print(alice <= bob)  # Output: False\n",
    "print(alice > bob)   # Output: True\n",
    "print(alice >= bob)  # Output: True\n",
    "\n",
    "arr=[alice,bob]\n",
    "arr.sort() # since we have defined how to compare the class Persons ,so now we can use the sorting directly\n",
    "print(arr)\n"
   ]
  },
  {
   "cell_type": "markdown",
   "metadata": {},
   "source": [
    "### **Using functools.total_ordering**\n",
    "Implementing all comparison dunder methods can be tedious. The functools.total_ordering decorator can simplify this process. You need to implement __eq__ and one other comparison method (__lt__, __le__, __gt__, or __ge__), and the decorator will fill in the rest."
   ]
  },
  {
   "cell_type": "code",
   "execution_count": 14,
   "metadata": {},
   "outputs": [
    {
     "name": "stdout",
     "output_type": "stream",
     "text": [
      "False\n",
      "True\n",
      "False\n",
      "False\n",
      "True\n",
      "True\n"
     ]
    }
   ],
   "source": [
    "from functools import total_ordering\n",
    "\n",
    "@total_ordering\n",
    "class Person:\n",
    "    def __init__(self, name: str, age: int) -> None:\n",
    "        \"\"\"\n",
    "        Initialize a person with a name and age.\n",
    "        \"\"\"\n",
    "        self.name: str = name\n",
    "        self.age: int = age\n",
    "\n",
    "    def __eq__(self, other: 'Person') -> bool:\n",
    "        \"\"\"\n",
    "        Define behavior for the == operator.\n",
    "        \"\"\"\n",
    "        return self.age == other.age\n",
    "\n",
    "    def __lt__(self, other: 'Person') -> bool:\n",
    "        \"\"\"\n",
    "        Define behavior for the < operator.\n",
    "        \"\"\"\n",
    "        return self.age < other.age\n",
    "\n",
    "    def __repr__(self) -> str:\n",
    "        \"\"\"\n",
    "        Return a string representation of the person.\n",
    "        \"\"\"\n",
    "        return f\"Person(name={self.name}, age={self.age})\"\n",
    "\n",
    "# Example usage\n",
    "alice: Person = Person(\"Alice\", 30)\n",
    "bob: Person = Person(\"Bob\", 25)\n",
    "\n",
    "print(alice == bob)  # Output: False\n",
    "print(alice != bob)  # Output: True\n",
    "print(alice < bob)   # Output: False\n",
    "print(alice <= bob)  # Output: False\n",
    "print(alice > bob)   # Output: True\n",
    "print(alice >= bob)  # Output: True\n"
   ]
  }
 ],
 "metadata": {
  "kernelspec": {
   "display_name": "Python 3",
   "language": "python",
   "name": "python3"
  },
  "language_info": {
   "codemirror_mode": {
    "name": "ipython",
    "version": 3
   },
   "file_extension": ".py",
   "mimetype": "text/x-python",
   "name": "python",
   "nbconvert_exporter": "python",
   "pygments_lexer": "ipython3",
   "version": "3.11.6"
  }
 },
 "nbformat": 4,
 "nbformat_minor": 2
}
