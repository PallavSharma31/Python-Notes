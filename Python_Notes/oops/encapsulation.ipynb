{
 "cells": [
  {
   "cell_type": "markdown",
   "metadata": {},
   "source": [
    "# Encapsulation\n",
    "\n",
    "Encapsulation is one of the key features of object-oriented programming. Encapsulation refers to the bundling of fields and methods inside a single class.\n",
    "\n",
    "This also helps to achieve data hiding.\n",
    "\n",
    "**Note**:People often consider encapsulation as data hiding, but that's not entirely true.\n",
    "\n",
    "Encapsulation refers to the bundling of related fields and methods together. This can be used to achieve data hiding. Encapsulation in itself is not data hiding."
   ]
  },
  {
   "cell_type": "markdown",
   "metadata": {},
   "source": [
    "In Python, encapsulation is achieved using private and protected members."
   ]
  },
  {
   "cell_type": "markdown",
   "metadata": {},
   "source": [
    "## 1. Public Members\n",
    "By default, all members (variables and methods) of a class are public in Python. This means they can be accessed from outside the class."
   ]
  },
  {
   "cell_type": "code",
   "execution_count": 1,
   "metadata": {},
   "outputs": [
    {
     "name": "stdout",
     "output_type": "stream",
     "text": [
      "Value: 10\n",
      "10\n"
     ]
    }
   ],
   "source": [
    "class PublicExample:\n",
    "    def __init__(self, value):\n",
    "        self.value = value\n",
    "    \n",
    "    def display(self):\n",
    "        print(f\"Value: {self.value}\")\n",
    "\n",
    "obj = PublicExample(10)\n",
    "obj.display()  # Output: Value: 10\n",
    "print(obj.value)  # Output: 10\n"
   ]
  },
  {
   "cell_type": "markdown",
   "metadata": {},
   "source": [
    "## 2. Private Members\n",
    "Private members are those that should not be accessed directly from outside the class. In Python, you can define private members by prefixing the member name with double underscores (__)."
   ]
  },
  {
   "cell_type": "code",
   "execution_count": 4,
   "metadata": {},
   "outputs": [
    {
     "name": "stdout",
     "output_type": "stream",
     "text": [
      "Value: 10\n",
      "10\n"
     ]
    }
   ],
   "source": [
    "class PrivateExample:\n",
    "    def __init__(self, value):\n",
    "        self.__value = value\n",
    "    \n",
    "    def display(self):\n",
    "        print(f\"Value: {self.__value}\")\n",
    "\n",
    "obj = PrivateExample(10)\n",
    "obj.display()  # Output: Value: 10\n",
    "# print(obj.__value)  # This will raise an AttributeError\n",
    "\n",
    "# Accessing private members through name mangling\n",
    "print(obj._PrivateExample__value)  # Output: 10"
   ]
  },
  {
   "cell_type": "markdown",
   "metadata": {},
   "source": [
    "### **Getters and Setters**"
   ]
  },
  {
   "cell_type": "markdown",
   "metadata": {},
   "source": [
    "#### 1. Traditional Getters and Setters"
   ]
  },
  {
   "cell_type": "code",
   "execution_count": 5,
   "metadata": {},
   "outputs": [
    {
     "name": "stdout",
     "output_type": "stream",
     "text": [
      "Alice\n",
      "30\n",
      "Bob\n",
      "35\n",
      "Age must be a positive integer.\n"
     ]
    }
   ],
   "source": [
    "class Person:\n",
    "    def __init__(self, name, age):\n",
    "        self.__name = name\n",
    "        self.__age = age\n",
    "    \n",
    "    # Getter for name\n",
    "    def get_name(self):\n",
    "        return self.__name\n",
    "    \n",
    "    # Setter for name\n",
    "    def set_name(self, name):\n",
    "        if isinstance(name, str):\n",
    "            self.__name = name\n",
    "        else:\n",
    "            print(\"Name must be a string.\")\n",
    "    \n",
    "    # Getter for age\n",
    "    def get_age(self):\n",
    "        return self.__age\n",
    "    \n",
    "    # Setter for age\n",
    "    def set_age(self, age):\n",
    "        if isinstance(age, int) and age > 0:\n",
    "            self.__age = age\n",
    "        else:\n",
    "            print(\"Age must be a positive integer.\")\n",
    "\n",
    "# Usage\n",
    "person = Person(\"Alice\", 30)\n",
    "print(person.get_name())  # Output: Alice\n",
    "print(person.get_age())   # Output: 30\n",
    "\n",
    "person.set_name(\"Bob\")\n",
    "person.set_age(35)\n",
    "print(person.get_name())  # Output: Bob\n",
    "print(person.get_age())   # Output: 35\n",
    "\n",
    "person.set_age(-5)  # Output: Age must be a positive integer.\n"
   ]
  },
  {
   "cell_type": "markdown",
   "metadata": {},
   "source": [
    "#### 2. Using Property Decorators\n",
    "\n",
    "Python provides a more elegant way to define getters and setters using the @property decorator. This approach makes the syntax more concise and natural.\n"
   ]
  },
  {
   "cell_type": "code",
   "execution_count": 6,
   "metadata": {},
   "outputs": [
    {
     "name": "stdout",
     "output_type": "stream",
     "text": [
      "Alice\n",
      "30\n",
      "Bob\n",
      "35\n",
      "Age must be a positive integer.\n"
     ]
    }
   ],
   "source": [
    "class Person:\n",
    "    def __init__(self, name, age):\n",
    "        self.__name = name\n",
    "        self.__age = age\n",
    "    \n",
    "    # Getter for name\n",
    "    @property\n",
    "    def name(self):\n",
    "        return self.__name\n",
    "    \n",
    "    # Setter for name\n",
    "    @name.setter\n",
    "    def name(self, name):\n",
    "        if isinstance(name, str):\n",
    "            self.__name = name\n",
    "        else:\n",
    "            print(\"Name must be a string.\")\n",
    "    \n",
    "    # Getter for age\n",
    "    @property\n",
    "    def age(self):\n",
    "        return self.__age\n",
    "    \n",
    "    # Setter for age\n",
    "    @age.setter\n",
    "    def age(self, age):\n",
    "        if isinstance(age, int) and age > 0:\n",
    "            self.__age = age\n",
    "        else:\n",
    "            print(\"Age must be a positive integer.\")\n",
    "\n",
    "# Usage\n",
    "person = Person(\"Alice\", 30)\n",
    "print(person.name)  # Output: Alice\n",
    "print(person.age)   # Output: 30\n",
    "\n",
    "person.name = \"Bob\"\n",
    "person.age = 35\n",
    "print(person.name)  # Output: Bob\n",
    "print(person.age)   # Output: 35\n",
    "\n",
    "person.age = -5  # Output: Age must be a positive integer."
   ]
  }
 ],
 "metadata": {
  "kernelspec": {
   "display_name": "Python 3",
   "language": "python",
   "name": "python3"
  },
  "language_info": {
   "codemirror_mode": {
    "name": "ipython",
    "version": 3
   },
   "file_extension": ".py",
   "mimetype": "text/x-python",
   "name": "python",
   "nbconvert_exporter": "python",
   "pygments_lexer": "ipython3",
   "version": "3.11.6"
  }
 },
 "nbformat": 4,
 "nbformat_minor": 2
}
