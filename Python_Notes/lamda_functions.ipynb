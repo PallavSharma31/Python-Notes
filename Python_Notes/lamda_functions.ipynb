{
 "cells": [
  {
   "cell_type": "markdown",
   "id": "5065ca86-0783-4802-98cc-c5f929fa299c",
   "metadata": {},
   "source": [
    "# Lambda Functions"
   ]
  },
  {
   "cell_type": "markdown",
   "id": "91b33bf4-0f4c-4f8e-b28c-b47737207f91",
   "metadata": {},
   "source": [
    "Syntax\n",
    "The syntax of a lambda function is:\n",
    "\n",
    "```\n",
    "lambda arguments: expression\n",
    "```\n",
    "- lambda is the keyword to define a lambda function.\n",
    "- arguments are the input parameters to the function, which can be zero or more.\n",
    "- expression is a single expression that is evaluated and returned."
   ]
  },
  {
   "cell_type": "code",
   "execution_count": 1,
   "id": "d6d64bae-c941-4e4f-a7e5-0cfdab23ec05",
   "metadata": {},
   "outputs": [
    {
     "name": "stdout",
     "output_type": "stream",
     "text": [
      "15\n"
     ]
    }
   ],
   "source": [
    "add_ten = lambda x: x + 10\n",
    "print(add_ten(5))  # Output: 15"
   ]
  },
  {
   "cell_type": "code",
   "execution_count": 2,
   "id": "adeade65-fae8-499f-a006-3993e0ef9f9b",
   "metadata": {},
   "outputs": [
    {
     "name": "stdout",
     "output_type": "stream",
     "text": [
      "[2, 4, 6]\n"
     ]
    }
   ],
   "source": [
    "numbers = [1, 2, 3, 4, 5, 6]\n",
    "even_numbers = filter(lambda x: x % 2 == 0, numbers)\n",
    "print(list(even_numbers))  # Output: [2, 4, 6]"
   ]
  }
 ],
 "metadata": {
  "kernelspec": {
   "display_name": "Python 3 (ipykernel)",
   "language": "python",
   "name": "python3"
  },
  "language_info": {
   "codemirror_mode": {
    "name": "ipython",
    "version": 3
   },
   "file_extension": ".py",
   "mimetype": "text/x-python",
   "name": "python",
   "nbconvert_exporter": "python",
   "pygments_lexer": "ipython3",
   "version": "3.12.2"
  }
 },
 "nbformat": 4,
 "nbformat_minor": 5
}
