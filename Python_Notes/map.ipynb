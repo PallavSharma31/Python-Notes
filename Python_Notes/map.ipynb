{
 "cells": [
  {
   "cell_type": "markdown",
   "id": "af455106-7b7e-4ccc-a52b-db9d56353d0b",
   "metadata": {},
   "source": [
    "# Map Function"
   ]
  },
  {
   "cell_type": "markdown",
   "id": "872abe80-b010-432c-8591-aabe7c5df053",
   "metadata": {},
   "source": [
    "The map function in Python is a built-in function that applies a given function to all items in an input list (or any other iterable) and returns a map object (which is an iterator) of the results.\n",
    "\n",
    "Syntax:\n",
    "```\n",
    "map(function, iterable, ...)\n",
    "```"
   ]
  },
  {
   "cell_type": "code",
   "execution_count": 1,
   "id": "4504177d-fed5-455e-8cea-6b01c4f2a66b",
   "metadata": {},
   "outputs": [
    {
     "name": "stdout",
     "output_type": "stream",
     "text": [
      "<class 'map'>\n",
      "[1, 4, 9, 16, 25]\n"
     ]
    }
   ],
   "source": [
    "def square(x):\n",
    "    return x ** 2\n",
    "\n",
    "numbers = [1, 2, 3, 4, 5]\n",
    "squared_numbers = map(square, numbers)\n",
    "\n",
    "print(type(squared_numbers))\n",
    "print(list(squared_numbers))  # Output: [1, 4, 9, 16, 25]\n"
   ]
  },
  {
   "cell_type": "code",
   "execution_count": 2,
   "id": "e42ddfa6-2b1c-4880-adc6-797fed9c7d0a",
   "metadata": {},
   "outputs": [
    {
     "name": "stdout",
     "output_type": "stream",
     "text": [
      "[1, 4, 9, 16, 25]\n"
     ]
    }
   ],
   "source": [
    "numbers = [1, 2, 3, 4, 5]\n",
    "squared_numbers = map(lambda x: x ** 2, numbers)\n",
    "\n",
    "print(list(squared_numbers))  # Output: [1, 4, 9, 16, 25]\n"
   ]
  },
  {
   "cell_type": "code",
   "execution_count": 3,
   "id": "6d6d6ce5-3145-4898-983d-33e3eca21682",
   "metadata": {},
   "outputs": [
    {
     "name": "stdout",
     "output_type": "stream",
     "text": [
      "[5, 7, 9]\n"
     ]
    }
   ],
   "source": [
    "def add(x, y):\n",
    "    return x + y\n",
    "\n",
    "numbers1 = [1, 2, 3]\n",
    "numbers2 = [4, 5, 6]\n",
    "result = map(add, numbers1, numbers2)\n",
    "\n",
    "print(list(result))  # Output: [5, 7, 9]"
   ]
  },
  {
   "cell_type": "code",
   "execution_count": 5,
   "id": "6ed206f6-5ab2-4306-8a6a-5af532c2494a",
   "metadata": {},
   "outputs": [
    {
     "name": "stdout",
     "output_type": "stream",
     "text": [
      "[1, 2, 3, 4]\n"
     ]
    }
   ],
   "source": [
    "# You can use map to convert data types. For example, converting a list of strings to integers.\n",
    "\n",
    "str_numbers = ['1', '2', '3', '4']\n",
    "int_numbers = map(int, str_numbers)\n",
    "\n",
    "print(list(int_numbers))  # Output: [1, 2, 3, 4]\n"
   ]
  },
  {
   "cell_type": "code",
   "execution_count": 6,
   "id": "e150fbb8-b0f8-45f5-9ceb-f7d82a0dd89d",
   "metadata": {},
   "outputs": [
    {
     "name": "stdout",
     "output_type": "stream",
     "text": [
      "[2.23606797749979, 5.0, 7.810249675906654]\n"
     ]
    }
   ],
   "source": [
    "import math\n",
    "\n",
    "def distance_from_origin(point):\n",
    "    x, y = point\n",
    "    return math.sqrt(x**2 + y**2)\n",
    "\n",
    "points = [(1, 2), (3, 4), (5, 6)]\n",
    "distances = map(distance_from_origin, points)\n",
    "\n",
    "print(list(distances))  # Output: [2.23606797749979, 5.0, 7.810249675906654]"
   ]
  }
 ],
 "metadata": {
  "kernelspec": {
   "display_name": "Python 3 (ipykernel)",
   "language": "python",
   "name": "python3"
  },
  "language_info": {
   "codemirror_mode": {
    "name": "ipython",
    "version": 3
   },
   "file_extension": ".py",
   "mimetype": "text/x-python",
   "name": "python",
   "nbconvert_exporter": "python",
   "pygments_lexer": "ipython3",
   "version": "3.12.2"
  }
 },
 "nbformat": 4,
 "nbformat_minor": 5
}
