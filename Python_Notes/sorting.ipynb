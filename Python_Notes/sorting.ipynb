{
 "cells": [
  {
   "cell_type": "markdown",
   "id": "9eeea613-d446-4424-b338-145181b66b4c",
   "metadata": {},
   "source": [
    "## 1. Using sorted with a Custom Key Function\n"
   ]
  },
  {
   "cell_type": "code",
   "execution_count": 1,
   "id": "87fa62bf-ebdd-474b-b15f-e60cbfd87640",
   "metadata": {},
   "outputs": [
    {
     "name": "stdout",
     "output_type": "stream",
     "text": [
      "[('Charlie', 95), ('Alice', 90), ('Bob', 85)]\n"
     ]
    }
   ],
   "source": [
    "# List of tuples (name, score)\n",
    "data = [('Alice', 90), ('Bob', 85), ('Charlie', 95)]\n",
    "\n",
    "# Custom key function to sort by the second element (score) in descending order\n",
    "sorted_data = sorted(data, key=lambda x: x[1], reverse=True)\n",
    "\n",
    "print(sorted_data)"
   ]
  },
  {
   "cell_type": "code",
   "execution_count": 2,
   "id": "f56256af-84da-499c-9795-5b65a44d2c26",
   "metadata": {},
   "outputs": [
    {
     "name": "stdout",
     "output_type": "stream",
     "text": [
      "[('Charlie', 95), ('Alice', 90), ('Bob', 85), ('David', 85)]\n"
     ]
    }
   ],
   "source": [
    "# List of tuples (name, score)\n",
    "data = [('Alice', 90), ('Bob', 85), ('Charlie', 95), ('David', 85)]\n",
    "\n",
    "# Custom key function to sort by score in descending order and then by name in ascending order\n",
    "sorted_data = sorted(data, key=lambda x: (-x[1], x[0]))\n",
    "\n",
    "print(sorted_data)"
   ]
  },
  {
   "cell_type": "markdown",
   "id": "63710743-fab5-41e7-84ce-e533055d28d4",
   "metadata": {},
   "source": [
    "## 2. Using sort Method with a Custom Key Function"
   ]
  },
  {
   "cell_type": "markdown",
   "id": "902ac88c-a755-4c8a-8671-e102e5001350",
   "metadata": {},
   "source": [
    "The sort method modifies the list in place. Here’s how you can use it:"
   ]
  },
  {
   "cell_type": "code",
   "execution_count": 3,
   "id": "e051249c-5f1b-4863-8edc-2b9bbe5574e9",
   "metadata": {},
   "outputs": [
    {
     "name": "stdout",
     "output_type": "stream",
     "text": [
      "[('Charlie', 95), ('Alice', 90), ('Bob', 85)]\n",
      "The history saving thread hit an unexpected error (OperationalError('unable to open database file')).History will not be written to the database.\n"
     ]
    }
   ],
   "source": [
    "# List of tuples (name, score)\n",
    "data = [('Alice', 90), ('Bob', 85), ('Charlie', 95)]\n",
    "\n",
    "# Sort the list in place by the second element (score) in descending order\n",
    "data.sort(key=lambda x: x[1], reverse=True)\n",
    "\n",
    "print(data)"
   ]
  },
  {
   "cell_type": "markdown",
   "id": "7acd6e9e-ef07-4c48-8336-7738d7cc1ca9",
   "metadata": {},
   "source": [
    "## 3: Using cmp_to_key for Custom Comparison"
   ]
  },
  {
   "cell_type": "markdown",
   "id": "d8903f84-1e75-4971-b224-dda3e6f78e03",
   "metadata": {},
   "source": [
    "If you need more complex comparison logic, you can use cmp_to_key from functools to convert a comparison function to a key function."
   ]
  },
  {
   "cell_type": "code",
   "execution_count": 1,
   "id": "0470d927-c28f-4f3b-84b9-951be560153f",
   "metadata": {},
   "outputs": [
    {
     "name": "stdout",
     "output_type": "stream",
     "text": [
      "[('Charlie', 95), ('Alice', 90), ('Bob', 85)]\n"
     ]
    }
   ],
   "source": [
    "from functools import cmp_to_key\n",
    "\n",
    "# Custom comparison function\n",
    "def custom_compare(x, y):\n",
    "    # Compare based on the second element (score)\n",
    "    if x[1] > y[1]:\n",
    "        return -1\n",
    "    elif x[1] < y[1]:\n",
    "        return 1\n",
    "    else:\n",
    "        return 0\n",
    "\n",
    "# List of tuples (name, score)\n",
    "data = [('Alice', 90), ('Bob', 85), ('Charlie', 95)]\n",
    "\n",
    "# Sort the list using the custom comparison function\n",
    "sorted_data = sorted(data, key=cmp_to_key(custom_compare))\n",
    "\n",
    "print(sorted_data)\n"
   ]
  },
  {
   "cell_type": "markdown",
   "id": "9bb69ec4-c9da-4127-b3e0-c7660d6c586f",
   "metadata": {},
   "source": [
    "## 4. Sorting a List of Dictionaries"
   ]
  },
  {
   "cell_type": "code",
   "execution_count": 2,
   "id": "ad9bdeb1-c13c-45bd-bf62-aa9d61167d0c",
   "metadata": {},
   "outputs": [
    {
     "name": "stdout",
     "output_type": "stream",
     "text": [
      "[{'name': 'Charlie', 'score': 95}, {'name': 'Alice', 'score': 90}, {'name': 'Bob', 'score': 85}]\n"
     ]
    }
   ],
   "source": [
    " # List of dictionaries\n",
    "data = [\n",
    "    {'name': 'Alice', 'score': 90},\n",
    "    {'name': 'Bob', 'score': 85},\n",
    "    {'name': 'Charlie', 'score': 95}\n",
    "]\n",
    "\n",
    "# Sort the list of dictionaries by the 'score' key in descending order\n",
    "sorted_data = sorted(data, key=lambda x: x['score'], reverse=True)\n",
    "\n",
    "print(sorted_data)\n"
   ]
  }
 ],
 "metadata": {
  "kernelspec": {
   "display_name": "Python 3 (ipykernel)",
   "language": "python",
   "name": "python3"
  },
  "language_info": {
   "codemirror_mode": {
    "name": "ipython",
    "version": 3
   },
   "file_extension": ".py",
   "mimetype": "text/x-python",
   "name": "python",
   "nbconvert_exporter": "python",
   "pygments_lexer": "ipython3",
   "version": "3.12.2"
  }
 },
 "nbformat": 4,
 "nbformat_minor": 5
}
