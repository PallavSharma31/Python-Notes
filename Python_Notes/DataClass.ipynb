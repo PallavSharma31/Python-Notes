{
 "cells": [
  {
   "cell_type": "markdown",
   "id": "9b1fd966-45d7-480b-b3d1-e934b6976ce5",
   "metadata": {},
   "source": [
    "# Dataclass\n",
    "In Python, a data class is a decorator and a function provided by the dataclasses module, which was introduced in Python 3.7. It is used to automatically generate special methods, such as `__init__(), __repr__(), __eq__(),` and others for user-defined classes. This simplifies the process of creating classes that are primarily used to store data, also known as \"plain old data\" classes or \"POJOs\" (Plain Old Java Objects) in other programming languages.\n",
    "\n",
    "Key Features of Data Classes\n",
    "Automatic Method Generation: Data classes automatically generate special methods like __init__(), __repr__(), __eq__(), and others based on the class attributes.\n",
    "Type Annotations: Data classes require type annotations for all fields, which helps with type checking and improves code readability.\n",
    "Default Values: Fields in data classes can have default values, making it easier to instantiate objects with default states.\n",
    "Immutability: By setting frozen=True in the decorator, data classes can be made immutable, meaning their fields cannot be modified after instantiation."
   ]
  },
  {
   "cell_type": "markdown",
   "id": "73591dc8-bef5-4145-863c-514a30304c83",
   "metadata": {},
   "source": [
    "## Basic Example"
   ]
  },
  {
   "cell_type": "code",
   "execution_count": 2,
   "id": "e9c2f156-3898-4218-a575-600687d7a8fe",
   "metadata": {},
   "outputs": [
    {
     "name": "stdout",
     "output_type": "stream",
     "text": [
      "Alice\n",
      "30\n",
      "Person(name='Alice', age=30, email='alice@example.com')\n"
     ]
    }
   ],
   "source": [
    "from dataclasses import dataclass\n",
    "\n",
    "@dataclass\n",
    "class Person:\n",
    "    name: str\n",
    "    age: int\n",
    "    email: str\n",
    "\n",
    "# Creating an instance of Person\n",
    "person = Person(name=\"Alice\", age=30, email=\"alice@example.com\")\n",
    "\n",
    "# Accessing attributes\n",
    "print(person.name)  # Output: Alice\n",
    "print(person.age)   # Output: 30\n",
    "\n",
    "# Printing the representation of the object\n",
    "print(person)  # Output: Person(name='Alice', age=30, email='alice@example.com')"
   ]
  },
  {
   "cell_type": "markdown",
   "id": "4d002c4f-d074-4110-b18c-8b9845c1f6ca",
   "metadata": {},
   "source": [
    "## Default Values and Field Metadata\n",
    "You can provide default values for fields and use the field function for more control over field behavior."
   ]
  },
  {
   "cell_type": "code",
   "execution_count": 3,
   "id": "bf16f944-1fb8-44a4-b9d6-0115a6746efd",
   "metadata": {},
   "outputs": [
    {
     "name": "stdout",
     "output_type": "stream",
     "text": [
      "Person(name='Bob', age=0, email='no-email@example.com')\n"
     ]
    }
   ],
   "source": [
    "from dataclasses import dataclass, field\n",
    "\n",
    "@dataclass\n",
    "class Person:\n",
    "    name: str\n",
    "    age: int = 0\n",
    "    email: str = field(default=\"no-email@example.com\")\n",
    "\n",
    "# Creating an instance with default values\n",
    "person = Person(name=\"Bob\")\n",
    "\n",
    "print(person)  # Output: Person(name='Bob', age=0, email='no-email@example.com')\n"
   ]
  },
  {
   "cell_type": "markdown",
   "id": "355140d8-2c1a-4d2e-ba36-cd190a23b4fd",
   "metadata": {},
   "source": [
    "The `field` function in Python's `dataclasses` module provides a way to customize the behavior of individual fields within a data class. It allows you to specify additional metadata and control over how fields are handled, such as default values, default factories, and other options that aren't possible with simple type annotations and default values.\n",
    "\n",
    "Here’s a detailed explanation of how the `field` function works and how it differs from other ways of defining fields in Python classes:\n",
    "\n",
    "## The `field` Function\n",
    "\n",
    "The `field` function is used to define properties of fields in a data class. It can be used to specify:\n",
    "- Default values or default factories\n",
    "- Metadata for fields\n",
    "- Whether a field should be included in comparison or hashing operations\n",
    "- Whether a field should be included in the `__repr__` method\n",
    "\n",
    "### Parameters of `field`\n",
    "\n",
    "- `default`: Provides a default value for the field.\n",
    "- `default_factory`: Provides a factory function that returns a default value for the field. This is useful for mutable types like lists or dictionaries.\n",
    "- `init`: If `False`, the field will not be included as a parameter in the generated `__init__` method. Defaults to `True`.\n",
    "- `repr`: If `False`, the field will not be included in the generated `__repr__` method. Defaults to `True`.\n",
    "- `compare`: If `False`, the field will not be included in comparison operations. Defaults to `True`.\n",
    "- `hash`: If `False`, the field will not be included in the generated `__hash__` method. This can be useful for fields that contain mutable data. Defaults to `None`.\n",
    "- `metadata`: A dictionary to store arbitrary metadata related to the field.\n",
    "\n",
    "### Example Usage\n",
    "\n",
    "Let's look at some examples to understand how the `field` function works.\n",
    "\n",
    "#### Example 1: Default Values and Default Factories\n",
    "\n",
    "```python\n",
    "from dataclasses import dataclass, field\n",
    "from typing import List\n",
    "\n",
    "@dataclass\n",
    "class Item:\n",
    "    name: str\n",
    "    quantity: int = 1\n",
    "    tags: List[str] = field(default_factory=list)\n",
    "\n",
    "item1 = Item(name=\"Apple\")\n",
    "item2 = Item(name=\"Banana\", tags=[\"fruit\", \"yellow\"])\n",
    "\n",
    "print(item1)  # Output: Item(name='Apple', quantity=1, tags=[])\n",
    "print(item2)  # Output: Item(name='Banana', quantity=1, tags=['fruit', 'yellow'])\n",
    "```\n",
    "\n",
    "In this example, the `tags` field uses `default_factory` to provide a new list for each instance, avoiding the common pitfall of using mutable default arguments.\n",
    "\n",
    "#### Example 2: Controlling Initialization and Representation\n",
    "\n",
    "```python\n",
    "from dataclasses import dataclass, field\n",
    "\n",
    "@dataclass\n",
    "class Product:\n",
    "    id: int\n",
    "    name: str\n",
    "    price: float\n",
    "    inventory: int = field(default=0, repr=False, compare=False)\n",
    "\n",
    "product = Product(id=1, name=\"Laptop\", price=999.99)\n",
    "print(product)  # Output: Product(id=1, name='Laptop', price=999.99)\n",
    "```\n",
    "\n",
    "In this example, the `inventory` field:\n",
    "- Has a default value of `0`.\n",
    "- Is excluded from the `__repr__` method.\n",
    "- Is excluded from comparison operations.\n",
    "\n",
    "#### Example 3: Metadata\n",
    "\n",
    "```python\n",
    "from dataclasses import dataclass, field\n",
    "\n",
    "@dataclass\n",
    "class Employee:\n",
    "    id: int\n",
    "    name: str\n",
    "    role: str = field(default=\"Employee\", metadata={\"description\": \"Role of the employee\"})\n",
    "\n",
    "employee = Employee(id=101, name=\"John Doe\")\n",
    "print(employee)  # Output: Employee(id=101, name='John Doe', role='Employee')\n",
    "\n",
    "# Accessing the metadata\n",
    "role_field = Employee.__dataclass_fields__['role']\n",
    "print(role_field.metadata[\"description\"])  # Output: Role of the employee\n",
    "```\n",
    "\n",
    "In this example, the `role` field has metadata associated with it, which can be accessed via the `__dataclass_fields__` attribute of the class.\n",
    "\n",
    "## Differences from Other Python Types\n",
    "\n",
    "- **Type Annotations**: Type annotations in Python only provide hints about the type of a field but do not offer any control over the field's behavior or default values.\n",
    "- **Default Values in Class Definitions**: While you can provide default values directly in class definitions, this approach does not offer advanced features like default factories or control over inclusion in special methods.\n",
    "- **Field Customization**: The `field` function allows for extensive customization of fields, which is not possible with simple type annotations or default values.\n",
    "\n",
    "In summary, the `field` function in the `dataclasses` module provides advanced control over the behavior of individual fields in a data class, enabling more flexible and powerful data class definitions."
   ]
  },
  {
   "cell_type": "markdown",
   "id": "66b5d6d2-408e-4cab-b6c6-1f425530b98b",
   "metadata": {},
   "source": [
    "## Immutability\n",
    "By setting frozen=True, you can make the data class immutable.\n",
    "\n"
   ]
  },
  {
   "cell_type": "code",
   "execution_count": 5,
   "id": "e2d4c939-e8e0-483c-b174-e3fc5422d50e",
   "metadata": {},
   "outputs": [
    {
     "ename": "FrozenInstanceError",
     "evalue": "cannot assign to field 'age'",
     "output_type": "error",
     "traceback": [
      "\u001b[0;31m---------------------------------------------------------------------------\u001b[0m",
      "\u001b[0;31mFrozenInstanceError\u001b[0m                       Traceback (most recent call last)",
      "Cell \u001b[0;32mIn[5], line 12\u001b[0m\n\u001b[1;32m      9\u001b[0m immutable_person \u001b[38;5;241m=\u001b[39m ImmutablePerson(name\u001b[38;5;241m=\u001b[39m\u001b[38;5;124m\"\u001b[39m\u001b[38;5;124mCharlie\u001b[39m\u001b[38;5;124m\"\u001b[39m, age\u001b[38;5;241m=\u001b[39m\u001b[38;5;241m25\u001b[39m)\n\u001b[1;32m     11\u001b[0m \u001b[38;5;66;03m# Trying to modify an attribute will raise an error\u001b[39;00m\n\u001b[0;32m---> 12\u001b[0m \u001b[43mimmutable_person\u001b[49m\u001b[38;5;241;43m.\u001b[39;49m\u001b[43mage\u001b[49m \u001b[38;5;241m=\u001b[39m \u001b[38;5;241m26\u001b[39m  \u001b[38;5;66;03m# This will raise a FrozenInstanceError\u001b[39;00m\n",
      "File \u001b[0;32m<string>:4\u001b[0m, in \u001b[0;36m__setattr__\u001b[0;34m(self, name, value)\u001b[0m\n",
      "\u001b[0;31mFrozenInstanceError\u001b[0m: cannot assign to field 'age'"
     ]
    }
   ],
   "source": [
    "from dataclasses import dataclass\n",
    "\n",
    "@dataclass(frozen=True)\n",
    "class ImmutablePerson:\n",
    "    name: str\n",
    "    age: int\n",
    "\n",
    "# Creating an instance of ImmutablePerson\n",
    "immutable_person = ImmutablePerson(name=\"Charlie\", age=25)\n",
    "\n",
    "# Trying to modify an attribute will raise an error\n",
    "immutable_person.age = 26  # This will raise a FrozenInstanceError"
   ]
  },
  {
   "cell_type": "markdown",
   "id": "3023744f-bc3b-4594-abc6-c9a866d24f74",
   "metadata": {},
   "source": [
    "## Comparing Objects"
   ]
  },
  {
   "cell_type": "code",
   "execution_count": 8,
   "id": "d8b076e3-97f1-48e5-98ee-4a5a504542e5",
   "metadata": {},
   "outputs": [
    {
     "name": "stdout",
     "output_type": "stream",
     "text": [
      "True\n",
      "False\n"
     ]
    }
   ],
   "source": [
    "from dataclasses import dataclass\n",
    "\n",
    "@dataclass\n",
    "class Point:\n",
    "    x: int\n",
    "    y: int\n",
    "\n",
    "point1 = Point(x=1, y=2)\n",
    "point2 = Point(x=1, y=2)\n",
    "point3 = Point(x=3, y=4)\n",
    "\n",
    "print(point1 == point2)  # Output: True\n",
    "print(point1 == point3)  # Output: False"
   ]
  },
  {
   "cell_type": "markdown",
   "id": "8ac345b2-9b3a-4244-be25-421e6344d75b",
   "metadata": {},
   "source": [
    "## Advanced Usage: Post-Initialization\n",
    "Sometimes, you might want to perform additional initialization after the auto-generated __init__ method has run. This can be done using the `__post_init__` method.\n"
   ]
  },
  {
   "cell_type": "code",
   "execution_count": 9,
   "id": "e1c25a91-c815-4c37-88ea-0b253c0d230c",
   "metadata": {},
   "outputs": [
    {
     "name": "stdout",
     "output_type": "stream",
     "text": [
      "50.0\n"
     ]
    }
   ],
   "source": [
    "from dataclasses import dataclass\n",
    "\n",
    "@dataclass\n",
    "class Rectangle:\n",
    "    width: float\n",
    "    height: float\n",
    "    area: float = field(init=False)\n",
    "\n",
    "    def __post_init__(self):\n",
    "        self.area = self.width * self.height\n",
    "\n",
    "# Creating an instance of Rectangle\n",
    "rectangle = Rectangle(width=5.0, height=10.0)\n",
    "\n",
    "print(rectangle.area)  # Output: 50.0"
   ]
  }
 ],
 "metadata": {
  "kernelspec": {
   "display_name": "Python 3 (ipykernel)",
   "language": "python",
   "name": "python3"
  },
  "language_info": {
   "codemirror_mode": {
    "name": "ipython",
    "version": 3
   },
   "file_extension": ".py",
   "mimetype": "text/x-python",
   "name": "python",
   "nbconvert_exporter": "python",
   "pygments_lexer": "ipython3",
   "version": "3.9.19"
  }
 },
 "nbformat": 4,
 "nbformat_minor": 5
}
